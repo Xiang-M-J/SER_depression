{
 "cells": [
  {
   "cell_type": "code",
   "execution_count": null,
   "metadata": {
    "collapsed": false
   },
   "outputs": [],
   "source": [
    "import librosa\n",
    "import numpy as np\n",
    "a = np.random.random([1,160000])\n",
    "b = librosa.feature.mfcc(y=a,sr=16000, n_mfcc=13, win_length=800, hop_length=512)\n",
    "print(b.shape)"
   ]
  },
  {
   "cell_type": "code",
   "execution_count": null,
   "metadata": {
    "collapsed": false
   },
   "outputs": [],
   "source": [
    "import numpy as np\n",
    "data1 = np.load(\"npy/MODMA.npy\", allow_pickle=True).item()\n",
    "x1 = data1['x']\n",
    "data2 = np.load(\"npy/MODMA___.npy\", allow_pickle=True).item()\n",
    "x2 = data2['x']\n",
    "print(x1.shape)\n",
    "print(x2.shape)\n",
    "print(np.std(abs(x1-x2)))"
   ]
  },
  {
   "cell_type": "code",
   "execution_count": null,
   "metadata": {
    "collapsed": false
   },
   "outputs": [],
   "source": [
    "import torchaudio\n",
    "import nnAudio.Spectrogram\n",
    "import torch\n",
    "import librosa\n",
    "import numpy as np\n",
    "data = np.random.random([10,160000])\n",
    "transform_mfcc = torchaudio.transforms.MFCC(sample_rate=16000, n_mfcc=13,\n",
    "                                                melkwargs={\"n_fft\": 800, \"hop_length\": 512})\n",
    "nn_mfcc = nnAudio.Spectrogram.MFCC(sr=16000, n_mfcc=13, n_fft=800, hop_length=512)\n",
    "y = transform_mfcc(torch.Tensor(data))\n",
    "y_ = librosa.feature.mfcc(y=data, sr=16000, n_mfcc=13, n_fft=800)\n",
    "y_2 = nn_mfcc(torch.Tensor(data))\n",
    "print(np.mean(abs(y_2.numpy()-y_)))"
   ]
  },
  {
   "cell_type": "code",
   "execution_count": null,
   "metadata": {
    "collapsed": false
   },
   "outputs": [],
   "source": [
    "scores = np.load(\"npy/scores.npy\", allow_pickle=True)\n",
    "print(scores)"
   ]
  },
  {
   "cell_type": "code",
   "execution_count": null,
   "metadata": {
    "collapsed": false
   },
   "outputs": [],
   "source": [
    "import librosa\n",
    "import torchaudio.transforms\n",
    "import torch\n",
    "import torchaudio.functional as F\n",
    "import time\n",
    "import numpy as np\n",
    "a = np.random.random([1, 441000]).astype(np.float32)\n",
    "resample = torchaudio.transforms.Resample(44100, 16000)\n",
    "\n",
    "T1 = time.time()\n",
    "y = librosa.resample(a, orig_sr=44100, target_sr=16000)\n",
    "T2 = time.time()\n",
    "print(T2-T1)\n",
    "T1 = time.time()\n",
    "y1 = F.resample(\n",
    "    torch.Tensor(a),\n",
    "    44100,\n",
    "    16000,\n",
    "    lowpass_filter_width=16,\n",
    "    rolloff=0.95,\n",
    "    resampling_method=\"kaiser_window\",\n",
    "    beta=14,\n",
    ")\n",
    "T2 = time.time()\n",
    "print(T2-T1)\n",
    "T1 = time.time()\n",
    "y2 = resample(torch.Tensor(a))\n",
    "T2 = time.time()\n",
    "print(T2-T1)\n",
    "print(np.sum(abs(y - y1.numpy())))\n",
    "print(np.sum(abs(y - y2.numpy())))"
   ]
  },
  {
   "cell_type": "code",
   "execution_count": null,
   "metadata": {
    "collapsed": false
   },
   "outputs": [],
   "source": [
    "import librosa\n",
    "a = np.random.random([10, 44100])\n",
    "b = np.random.random([10, 16000])\n",
    "\n",
    "a_mfcc = librosa.feature.mfcc(y=a, sr=44100, n_mfcc=13)\n",
    "b_mfcc = librosa.feature.mfcc(y=b, sr=16000, n_mfcc=13)\n",
    "print(a_mfcc.shape)\n",
    "print(b_mfcc.shape)"
   ]
  },
  {
   "cell_type": "code",
   "execution_count": null,
   "metadata": {
    "collapsed": false
   },
   "outputs": [],
   "source": [
    "import numpy as np\n",
    "from utils import get_file_dict\n",
    "conf = np.load(\"npy/conf.npy\", allow_pickle=True).item()\n",
    "key = list(conf.keys())[0]\n",
    "wav_dict = get_file_dict(\"MODMA\")\n",
    "\n",
    "concat_data = None\n",
    "concat_data_ = None\n",
    "for wav in (wav_dict[key]):\n",
    "    data, sr = torchaudio.load(wav)\n",
    "    if concat_data is None:\n",
    "        concat_data = data\n",
    "    else:\n",
    "        concat_data = torch.cat([concat_data, data], dim=1)\n",
    "\n",
    "for wav in (wav_dict[key]):\n",
    "    data, sr = librosa.load(wav, sr=None)\n",
    "    if concat_data_ is None:\n",
    "        concat_data_ = data\n",
    "    else:\n",
    "        concat_data_ = np.hstack([concat_data_, data])\n",
    "print(np.sum(abs(concat_data.numpy()-concat_data_)))"
   ]
  },
  {
   "cell_type": "markdown",
   "metadata": {
    "collapsed": false
   },
   "source": [
    "torchaudio.save()对于librosa是无损保存(当保存为float32类型时)，非float32也只有微小的精度损失"
   ]
  },
  {
   "cell_type": "code",
   "execution_count": null,
   "metadata": {
    "collapsed": false
   },
   "outputs": [],
   "source": [
    "data = np.random.random([441000])\n",
    "y1 = librosa.resample(data, orig_sr=44100, target_sr=16000).astype(np.float32)\n",
    "torchaudio.save(\"tmp.wav\", torch.Tensor(y1).unsqueeze(0), sample_rate=16000)\n",
    "time.sleep(0.3)\n",
    "data, sr = librosa.load(\"tmp.wav\", sr=None)\n",
    "print(np.sum(abs(y1-data)))"
   ]
  },
  {
   "cell_type": "code",
   "execution_count": null,
   "metadata": {
    "collapsed": false
   },
   "outputs": [],
   "source": [
    "import pandas as pd\n",
    "from header import *\n",
    "import seaborn as sns\n",
    "import matplotlib.pyplot as plt\n",
    "data = np.load(\"npy/ABC.npy\", allow_pickle=True).item()\n",
    "x = data['x']\n",
    "x = x[200]\n",
    "df = pd.DataFrame(x.T)\n",
    "plt.figure(figsize=(100,100))\n",
    "sns.heatmap(df.corr(),annot=True, vmax=1, square=True)\n",
    "plt.savefig(\"corr.png\")"
   ]
  },
  {
   "cell_type": "code",
   "execution_count": null,
   "metadata": {
    "collapsed": false
   },
   "outputs": [],
   "source": [
    "from header import *\n",
    "from utils import data_distribution\n",
    "distribute = data_distribution(\"MODMA\")\n",
    "index = np.array(list(distribute.index))\n",
    "value = distribute.values\n",
    "no_zero_index = value != 0\n",
    "index = index[no_zero_index]\n",
    "value = value[no_zero_index]\n",
    "index_ = list(index[:9].astype(str))\n",
    "index_.append(\"(46,]\")\n",
    "value_ = list(value[:9])\n",
    "value_.append(np.sum(value[9:]))\n",
    "plt.figure(figsize=(10,10))\n",
    "plt.pie(value_, labels=index_, autopct='%1.1f%%')\n",
    "plt.title(\"MODMA数据集音频时长(s)分布\")\n",
    "plt.axis('equal')\n",
    "# plt.xlabel(\"时长分布(s)\")\n",
    "# plt.ylabel(\"样本数\")\n",
    "plt.savefig(\"dis.png\", dpi=300)"
   ]
  },
  {
   "cell_type": "code",
   "execution_count": null,
   "metadata": {
    "collapsed": false
   },
   "outputs": [],
   "source": [
    "import pandas as pd\n",
    "from header import *\n",
    "import seaborn as sns\n",
    "data = np.load(\"data/MODMA_V1_order3.npy\", allow_pickle=True).item()\n",
    "x = data['x']\n",
    "x = x[1000]\n",
    "df = pd.DataFrame(x.T)\n",
    "plt.figure(figsize=(40,40))\n",
    "sns.heatmap(df.corr(),annot=True, vmax=1, square=True)\n",
    "plt.savefig(\"corr_order3.svg\")"
   ]
  },
  {
   "cell_type": "code",
   "execution_count": null,
   "metadata": {
    "collapsed": false
   },
   "outputs": [],
   "source": [
    "# from header import *\n",
    "import numpy as np\n",
    "from collections import Counter\n",
    "data = np.load(\"data/MODMA_V1_order3.npy\", allow_pickle=True).item()\n",
    "x = data['x']\n",
    "X = x[0].T\n",
    "from sklearn.mixture import GaussianMixture as GMM\n",
    "K = 5\n",
    "total_labels = []\n",
    "for k in range(K):\n",
    "    gmm = GMM(n_components=100).fit(X)\n",
    "    labels = gmm.predict(X)\n",
    "    total_labels.append(labels)\n",
    "\n",
    "# total_mono_labels = []\n",
    "total_labels2index = []\n",
    "for k in range(K):\n",
    "    labels = total_labels[k]\n",
    "    mono_labels = []\n",
    "    labels2index = []\n",
    "    for i in range(1, len(labels)):\n",
    "        if labels[i] not in mono_labels:\n",
    "            mono_labels.append(labels[i])\n",
    "            labels2index.append(i)\n",
    "    # total_mono_labels.append(mono_labels)\n",
    "    total_labels2index.append(labels2index)\n",
    "\n",
    "label2index = np.array(total_labels2index).flatten()\n",
    "label2index = Counter(label2index)\n",
    "a1 = sorted(label2index.items(),key = lambda x:x[1],reverse = True)\n",
    "b = np.array(a1[:100])\n",
    "index = np.sort(b[:,0])\n",
    "print(index)\n",
    "# print(label2index.keys())\n",
    "# print(label2index.values())\n",
    "# print(len(label2index.keys()))\n",
    "# print(list(set(labels)))\n",
    "# total_labels.append(labels)\n",
    "# print(len(total_labels))\n",
    "# print(len(labels))\n",
    "# print(labels)"
   ]
  },
  {
   "cell_type": "code",
   "execution_count": null,
   "metadata": {
    "collapsed": false
   },
   "outputs": [],
   "source": [
    "# from process_utils import multiGMM\n",
    "import numpy as np\n",
    "path = \"data/MODMA_V1_order3.npy\"\n",
    "data = np.load(path, allow_pickle=True).item()\n",
    "x = data['x']\n",
    "X = x[3]\n",
    "# np.count_nonzero(x[3], axis=1)\n",
    "diff_x = np.diff(X, axis=1)\n",
    "counts = np.count_nonzero(diff_x, axis=1)\n",
    "print(max(counts))\n",
    "# b,s,t,w = np.unique(x[3], return_counts=True,return_index=True,return_inverse=True, axis=1)\n",
    "# print(b)\n",
    "# print(s)\n",
    "# print(t)\n",
    "# print(w)"
   ]
  },
  {
   "cell_type": "code",
   "execution_count": null,
   "metadata": {
    "collapsed": false
   },
   "outputs": [],
   "source": [
    "from process_utils import mGMM\n",
    "import numpy as np\n",
    "from collections import Counter\n",
    "\n",
    "path = \"data/MODMA_V1_order3.npy\"\n",
    "n_components = 100\n",
    "data = np.load(path, allow_pickle=True).item()\n",
    "x = data['x']\n",
    "X = x[0].T\n",
    "label2index = mGMM(X=X, K=8, n_components=n_components)\n",
    "label2index = np.array(label2index).flatten()\n",
    "label2index_dict = Counter(label2index)\n",
    "label2index_sorted = sorted(label2index_dict.items(), key=lambda x: x[1], reverse=True)\n",
    "label2index = np.array(label2index_sorted[:n_components])\n",
    "index = np.sort(label2index[:, 0])\n",
    "print(label2index)"
   ]
  },
  {
   "cell_type": "code",
   "execution_count": null,
   "outputs": [],
   "source": [],
   "metadata": {
    "collapsed": false,
    "pycharm": {
     "is_executing": true
    }
   }
  },
  {
   "cell_type": "code",
   "execution_count": null,
   "outputs": [],
   "source": [],
   "metadata": {
    "collapsed": false
   }
  }
 ],
 "metadata": {
  "kernelspec": {
   "display_name": "Python 3",
   "language": "python",
   "name": "python3"
  },
  "language_info": {
   "codemirror_mode": {
    "name": "ipython",
    "version": 3
   },
   "file_extension": ".py",
   "mimetype": "text/x-python",
   "name": "python",
   "nbconvert_exporter": "python",
   "pygments_lexer": "ipython3",
   "version": "3.7.9"
  }
 },
 "nbformat": 4,
 "nbformat_minor": 0
}
