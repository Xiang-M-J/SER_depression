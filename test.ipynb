{
 "cells": [
  {
   "cell_type": "code",
   "execution_count": null,
   "metadata": {
    "collapsed": false
   },
   "outputs": [],
   "source": [
    "from utils import plot_2\n",
    "plot_2(\"results/data/pretrain_drop1_mfcc_smoothTrue_epoch100_l2re1_lr0002_train_metric.npy\", \"now\")"
   ]
  },
  {
   "cell_type": "code",
   "execution_count": null,
   "metadata": {
    "collapsed": false
   },
   "outputs": [],
   "source": [
    "import torch\n",
    "model = torch.load(\"pretrain_model.pt\")\n",
    "model_dict = model.state_dict()\n",
    "# for k, v in model_dict.items():\n",
    "#     print(k)\n",
    "\n",
    "model_ = torch.load(\"models/model_drop1_mfcc_smoothTrue_epoch50_l2re1_lr0001_best.pt\")\n",
    "model_dict_ = model_.state_dict()\n",
    "# for k, v in model_dict_.items():\n",
    "#     print(k)\n",
    "pretrained_dict = {k.replace(\"extractor\", \"generalFeatureExtractor\"): v for k, v in model_dict.items() if k.replace(\"extractor\", \"generalFeatureExtractor\") in model_dict_}\n",
    "for k, v in pretrained_dict.items():\n",
    "    print(k)\n"
   ]
  },
  {
   "cell_type": "code",
   "execution_count": null,
   "metadata": {
    "collapsed": false
   },
   "outputs": [],
   "source": [
    "from test_files import test_\n",
    "test_(\n",
    "    model_path=\"models/train_order3_drop1_mfcc_smoothTrue_epoch60_l2re1_lr0002_pretrainTrue_best.pt\", wav_path=\"preprocess/MODMA_16kHz\", num=100, num_class=2, order=3)\n"
   ]
  },
  {
   "cell_type": "code",
   "execution_count": null,
   "metadata": {
    "collapsed": false
   },
   "outputs": [],
   "source": [
    "import torch\n",
    "import torch.nn as nn\n",
    "from einops.layers.torch import Rearrange\n",
    "model1 = nn.Sequential(\n",
    "    Rearrange(\"N L C W -> N L (C W)\"),\n",
    "    Rearrange(\"N L C -> N C L\"),\n",
    ")\n",
    "model2 = Rearrange(\"N L C W -> N C (L W)\")\n",
    "x = torch.rand([4,313,39,1])\n",
    "y1 = model1(x)\n",
    "y2 = model2(x)\n",
    "print(torch.sum(torch.abs(y1-y2)))"
   ]
  },
  {
   "cell_type": "code",
   "execution_count": null,
   "metadata": {
    "collapsed": false
   },
   "outputs": [],
   "source": [
    "from utils import myDataset\n",
    "import numpy as np\n",
    "import torch.utils.data\n",
    "x = np.arange(20)\n",
    "y = np.arange(20)\n",
    "dataset = myDataset(x, y)\n",
    "loader = torch.utils.data.dataloader.DataLoader(\n",
    "    dataset=dataset,\n",
    "    batch_size=8,\n",
    "    shuffle=False\n",
    ")\n",
    "train_iter = iter(loader)\n",
    "print(len(loader))\n",
    "for _ in range(10):\n",
    "    try:\n",
    "        print(next(train_iter))\n",
    "    except StopIteration:\n",
    "        train_iter = iter(loader)\n",
    "        print(next(train_iter))"
   ]
  },
  {
   "cell_type": "code",
   "execution_count": null,
   "metadata": {
    "collapsed": false
   },
   "outputs": [],
   "source": [
    "import torch.nn as nn\n",
    "import torch\n",
    "from utils import print_model\n",
    "class simplemodel(nn.Module):\n",
    "    def __init__(self):\n",
    "        super(simplemodel, self).__init__()\n",
    "        self.base = nn.Linear(4,4, bias=False)\n",
    "        self.l1 = nn.Linear(4,3, bias=False)\n",
    "        self.l2 = nn.Linear(4,2, bias=False)\n",
    "    def forward(self, x, flag):\n",
    "        x = self.base(x)\n",
    "        if flag:\n",
    "            x = self.l1(x)\n",
    "        else:\n",
    "            x = self.l2(x)\n",
    "        return x\n",
    "\n",
    "model = simplemodel()\n",
    "optimizer = torch.optim.Adam(model.parameters(), lr=1e-3)\n",
    "x = torch.rand([4,4])\n",
    "y1_ = torch.rand([4,3])\n",
    "y2_ = torch.rand([4,2])\n",
    "y1 = model(x, True)\n",
    "y2 = model(x, False)\n",
    "loss1 = torch.nn.CrossEntropyLoss()(y1, y1_)\n",
    "loss2 = torch.nn.CrossEntropyLoss()(y2, y2_)\n",
    "loss = loss1+loss2\n",
    "optimizer.zero_grad()\n",
    "loss.backward()\n",
    "print_model(model)\n",
    "optimizer.step()"
   ]
  },
  {
   "cell_type": "code",
   "execution_count": null,
   "metadata": {
    "collapsed": false
   },
   "outputs": [],
   "source": [
    "from utils import plot\n",
    "import numpy as np\n",
    "hubert_data = np.load(\"ser_pretrain/results/hubert.npy\", allow_pickle=True).item()\n",
    "# plot(wav2vec2_data, model_name=\"hubert\",result_path=\"ser_pretrain/results/\")\n",
    "print(np.max(hubert_data['val_acc']))\n",
    "print(hubert_data['train_acc'][np.argmax(hubert_data['val_acc'])])"
   ]
  },
  {
   "cell_type": "code",
   "execution_count": 3,
   "metadata": {
    "ExecuteTime": {
     "end_time": "2023-04-10T00:10:51.911025Z",
     "start_time": "2023-04-10T00:10:51.506566Z"
    },
    "collapsed": false
   },
   "outputs": [
    {
     "name": "stderr",
     "output_type": "stream",
     "text": [
      "d:\\python3_7\\lib\\site-packages\\torchvision\\models\\_utils.py:209: UserWarning: The parameter 'pretrained' is deprecated since 0.13 and will be removed in 0.15, please use 'weights' instead.\n",
      "  f\"The parameter '{pretrained_param}' is deprecated since 0.13 and will be removed in 0.15, \"\n",
      "d:\\python3_7\\lib\\site-packages\\torchvision\\models\\_utils.py:223: UserWarning: Arguments other than a weight enum or `None` for 'weights' are deprecated since 0.13 and will be removed in 0.15. The current behavior is equivalent to passing `weights=None`.\n",
      "  warnings.warn(msg)\n",
      "d:\\python3_7\\lib\\site-packages\\torch\\optim\\lr_scheduler.py:729: UserWarning: To get the last learning rate computed by the scheduler, please use `get_last_lr()`.\n",
      "  \"please use `get_last_lr()`.\", UserWarning)\n"
     ]
    },
    {
     "name": "stdout",
     "output_type": "stream",
     "text": [
      "0.010079629669929565\n"
     ]
    },
    {
     "data": {
      "image/png": "[encoded data removed]",
      "text/plain": [
       "<Figure size 640x480 with 1 Axes>"
      ]
     },
     "metadata": {},
     "output_type": "display_data"
    }
   ],
   "source": [
    "import numpy as np\n",
    "import torch\n",
    "from torchvision import models\n",
    "import matplotlib.pyplot as plt\n",
    "\n",
    "net = models.resnet18(pretrained=False)\n",
    "\n",
    "\n",
    "max_epoch=50 # 一共50 epoch\n",
    "iters=200    # 每个epoch 有 200 个 bach\n",
    "\n",
    "optimizer = torch.optim.SGD(net.parameters(), lr=0.01, momentum=0.9)\n",
    "scheduler =  torch.optim.lr_scheduler.CosineAnnealingLR(optimizer = optimizer,\n",
    "                                                        T_max =  max_epoch/2, eta_min=1e-6) #  * iters\n",
    "\n",
    "lr = []\n",
    "for epoch in range(max_epoch):\n",
    "    for batch in range(iters):\n",
    "        optimizer.step()\n",
    "\n",
    "\n",
    "        lr.append(scheduler.get_lr()[0])\n",
    "    scheduler.step() # 注意 每个epoch 结束， 更新learning rate\n",
    "print(lr[-1])\n",
    "plt.plot(np.arange(len(lr)), lr)\n",
    "plt.show()\n",
    "# plt.savefig('aa.jpg')\n",
    "\n"
   ]
  },
  {
   "cell_type": "code",
   "execution_count": 3,
   "metadata": {
    "ExecuteTime": {
     "end_time": "2023-04-10T10:30:04.314667Z",
     "start_time": "2023-04-10T10:30:04.297709Z"
    },
    "collapsed": false
   },
   "outputs": [
    {
     "name": "stdout",
     "output_type": "stream",
     "text": [
      "tensor([[[-0.6320, -0.9299,  0.6613,  0.0000,  1.4600,  1.9067,  0.6700,\n",
      "           0.0000],\n",
      "         [-1.1087,  0.5929, -1.5662,  0.0000,  0.2133, -0.4725, -0.6043,\n",
      "           0.0000],\n",
      "         [-0.5921, -1.4446,  0.4838,  0.0000,  1.7272, -0.0903,  0.4559,\n",
      "           0.0000],\n",
      "         [ 0.6796,  0.4075, -0.1967,  0.0000,  0.6015,  2.3097,  1.4803,\n",
      "          -0.0000]],\n",
      "\n",
      "        [[ 2.1429,  1.6390,  2.0908,  0.2664,  1.6322, -0.2003, -1.3874,\n",
      "           1.5855],\n",
      "         [-0.1589,  0.7866, -1.3509,  0.6646,  1.7225,  0.9628,  1.1001,\n",
      "          -0.6886],\n",
      "         [ 1.1371,  0.1399, -1.8018, -0.0157, -1.1171, -1.9877,  0.3964,\n",
      "           0.6308],\n",
      "         [-0.4081,  2.4424, -1.7956,  1.4307, -1.3278, -0.1320,  0.7493,\n",
      "          -0.5080]]])\n"
     ]
    }
   ],
   "source": [
    "from CNN import SpatialDropout\n",
    "import torch\n",
    "\n",
    "sd = SpatialDropout(0.1)\n",
    "x = torch.randn([2, 4, 8])\n",
    "y = sd(x)\n",
    "print(y)"
   ]
  },
  {
   "cell_type": "code",
   "execution_count": 7,
   "metadata": {},
   "outputs": [
    {
     "name": "stdout",
     "output_type": "stream",
     "text": [
      "tensor(12094.7764, grad_fn=<SumBackward0>)\n"
     ]
    }
   ],
   "source": [
    "import torch.nn as nn\n",
    "import torch\n",
    "class mulModel(nn.Module):\n",
    "    def __init__(self) -> None:\n",
    "        super(mulModel, self).__init__()\n",
    "        self.conv1 = nn.Conv1d(in_channels=39, out_channels=10, kernel_size=3, padding=\"same\")\n",
    "        self.conv2 = nn.Conv1d(in_channels=10, out_channels=39, kernel_size=3, padding=\"same\")\n",
    "    def forward(self, x):\n",
    "        identity = x\n",
    "        x = self.conv1(x)\n",
    "        x = self.conv2(x)\n",
    "        x = torch.mul(identity, x)\n",
    "        return x\n",
    "\n",
    "class addModel(nn.Module):\n",
    "    def __init__(self) -> None:\n",
    "        super(addModel, self).__init__()\n",
    "        self.conv1 = nn.Conv1d(in_channels=39, out_channels=10, kernel_size=3, padding=\"same\")\n",
    "        self.conv2 = nn.Conv1d(in_channels=10, out_channels=39, kernel_size=3, padding=\"same\")\n",
    "    def forward(self, x):\n",
    "        identity = x\n",
    "        x = self.conv1(x)\n",
    "        x = self.conv2(x)\n",
    "        x = torch.add(identity, x)\n",
    "        return x\n",
    "\n",
    "model = mulModel()\n",
    "optimizer = torch.optim.Adam(model.parameters(), lr=1e-3)\n",
    "loss_f = torch.nn.MSELoss()\n",
    "x = torch.randn([4, 39, 100])\n",
    "y = torch.randn([4, 39, 100])\n",
    "for i in range(50):\n",
    "    out = model(x)\n",
    "    loss = loss_f(out, y)\n",
    "    optimizer.zero_grad()\n",
    "    loss.backward()\n",
    "    optimizer.step()\n",
    "print(torch.sum(torch.abs(y-model(x))))\n",
    "torch.save(model, \"test.pt\")"
   ]
  },
  {
   "cell_type": "code",
   "execution_count": 14,
   "metadata": {},
   "outputs": [
    {
     "name": "stdout",
     "output_type": "stream",
     "text": [
      "tensor(17864.3652, grad_fn=<SumBackward0>)\n"
     ]
    }
   ],
   "source": [
    "from utils import print_model\n",
    "new_model = addModel()\n",
    "model = torch.load(\"test.pt\")\n",
    "new_model.load_state_dict(model.state_dict())\n",
    "out = new_model(x)\n",
    "print(torch.sum(torch.abs(y-out)))"
   ]
  },
  {
   "attachments": {},
   "cell_type": "markdown",
   "metadata": {},
   "source": [
    "1x1卷积的作用：降低特征提取时的计算量，降低模型复杂度"
   ]
  },
  {
   "cell_type": "code",
   "execution_count": 37,
   "metadata": {},
   "outputs": [
    {
     "name": "stdout",
     "output_type": "stream",
     "text": [
      "0.012032747268676758\n",
      "0.008971214294433594\n"
     ]
    }
   ],
   "source": [
    "import torch.nn as nn\n",
    "import torch\n",
    "import time\n",
    "class simpleModel_1(nn.Module): # 不使用1x1卷积\n",
    "    def __init__(self) -> None:\n",
    "        super(simpleModel_1, self).__init__()\n",
    "        self.conv1 = nn.Conv1d(in_channels=39, out_channels=39, kernel_size=3)\n",
    "        self.conv2 = nn.Conv1d(in_channels=39, out_channels=39, kernel_size=3)\n",
    "    def forward(self, x):\n",
    "        x = self.conv1(x)\n",
    "        x = self.conv2(x)\n",
    "\n",
    "class simpleModel_2(nn.Module): # 使用1x1卷积\n",
    "    def __init__(self) -> None:\n",
    "        super(simpleModel_2, self).__init__()\n",
    "        self.conv1 = nn.Conv1d(in_channels=39, out_channels=13, kernel_size=1)\n",
    "        self.conv2 = nn.Conv1d(in_channels=13, out_channels=13, kernel_size=3)\n",
    "        self.conv3 = nn.Conv1d(in_channels=13, out_channels=39, kernel_size=1)\n",
    "    def forward(self, x):\n",
    "        x = self.conv1(x)\n",
    "        x = self.conv2(x)\n",
    "        x = self.conv3(x)\n",
    "\n",
    "x = torch.randn([64, 39, 313])\n",
    "model1 = simpleModel_1()\n",
    "model2 = simpleModel_2()\n",
    "a1 = time.time()\n",
    "y = model1(x)\n",
    "a2 = time.time()\n",
    "print(a2-a1)\n",
    "\n",
    "a1 = time.time()\n",
    "y = model2(x)\n",
    "a2 = time.time()\n",
    "print(a2-a1)"
   ]
  },
  {
   "attachments": {},
   "cell_type": "markdown",
   "metadata": {},
   "source": [
    "用于通道整合"
   ]
  },
  {
   "cell_type": "code",
   "execution_count": 30,
   "metadata": {},
   "outputs": [
    {
     "name": "stdout",
     "output_type": "stream",
     "text": [
      "0.011861324310302734\n",
      "0.017818212509155273\n"
     ]
    }
   ],
   "source": [
    "import torch.nn as nn\n",
    "import torch\n",
    "import time\n",
    "class simpleModel_1(nn.Module):\n",
    "    def __init__(self) -> None:\n",
    "        super(simpleModel_1, self).__init__()\n",
    "        self.conv1 = nn.Conv1d(in_channels=39, out_channels=39, kernel_size=3)\n",
    "        self.conv2 = nn.Conv1d(in_channels=39, out_channels=39, kernel_size=3)\n",
    "    def forward(self, x):\n",
    "        x_f = self.conv1(x)\n",
    "        x_b = self.conv2(x)\n",
    "        return torch.add(x_b, x_f)\n",
    "\n",
    "class simpleModel_2(nn.Module):\n",
    "    def __init__(self) -> None:\n",
    "        super(simpleModel_2, self).__init__()\n",
    "        self.conv1 = nn.Conv1d(in_channels=39, out_channels=39, kernel_size=3)\n",
    "        self.conv2 = nn.Conv1d(in_channels=39, out_channels=39, kernel_size=3)\n",
    "        self.conv3 = nn.Conv1d(in_channels=78, out_channels=39, kernel_size=1)\n",
    "    def forward(self, x):\n",
    "        x_f = self.conv1(x)\n",
    "        x_b = self.conv2(x)\n",
    "        x = self.conv3(torch.cat([x_f, x_b], dim=1))\n",
    "\n",
    "x = torch.randn([64, 39, 313])\n",
    "model1 = simpleModel_1()\n",
    "model2 = simpleModel_2()\n",
    "a1 = time.time()\n",
    "y = model1(x)\n",
    "a2 = time.time()\n",
    "print(a2-a1)\n",
    "\n",
    "a1 = time.time()\n",
    "y = model2(x)\n",
    "a2 = time.time()\n",
    "print(a2-a1)"
   ]
  },
  {
   "cell_type": "code",
   "execution_count": 4,
   "outputs": [
    {
     "name": "stdout",
     "output_type": "stream",
     "text": [
      "1\n",
      "10\n",
      "1\n"
     ]
    }
   ],
   "source": [
    "import copy\n",
    "class a:\n",
    "    def __init__(self):\n",
    "        self.x = 1\n",
    "\n",
    "a1 = a()\n",
    "def fun(a1: a):\n",
    "    a1 = copy.deepcopy(a1)\n",
    "    a1.x = 10\n",
    "    print(a1.x)\n",
    "print(a1.x)\n",
    "fun(a1)\n",
    "print(a1.x)"
   ],
   "metadata": {
    "collapsed": false,
    "ExecuteTime": {
     "start_time": "2023-04-12T20:58:30.538855Z",
     "end_time": "2023-04-12T20:58:30.542973Z"
    }
   }
  },
  {
   "cell_type": "code",
   "execution_count": null,
   "outputs": [],
   "source": [],
   "metadata": {
    "collapsed": false
   }
  }
 ],
 "metadata": {
  "kernelspec": {
   "display_name": "Python 3",
   "language": "python",
   "name": "python3"
  },
  "language_info": {
   "codemirror_mode": {
    "name": "ipython",
    "version": 3
   },
   "file_extension": ".py",
   "mimetype": "text/x-python",
   "name": "python",
   "nbconvert_exporter": "python",
   "pygments_lexer": "ipython3",
   "version": "3.7.9"
  }
 },
 "nbformat": 4,
 "nbformat_minor": 0
}
